{
 "cells": [
  {
   "cell_type": "markdown",
   "metadata": {},
   "source": [
    "# IBM Data Science Professional Certificate\n",
    "## Applied Data Science Capstone - The Battle of Neighborhoods - Week 4 Part 1"
   ]
  },
  {
   "cell_type": "markdown",
   "metadata": {},
   "source": [
    "##### Week 4 - Part 1: Introduction / Business Problem"
   ]
  },
  {
   "cell_type": "markdown",
   "metadata": {},
   "source": [
    "<b>Assignment:</b> Clearly define a problem or an idea of your choice, where you would need to leverage the Foursquare location data to solve or execute. Remember that data science problems always target an audience and are meant to help a group of stakeholders solve a problem, so make sure that you explicitly describe your audience and why they would care about your problem.\n",
    "\n",
    "This submission will eventually become your Introduction/Business Problem section in your final report. So I recommend that you push the report (having your Introduction/Business Problem section only for now) to your Github repository and submit a link to it."
   ]
  },
  {
   "cell_type": "markdown",
   "metadata": {},
   "source": [
    "<b>My Idea:</b> Whitefield in Bengaluru, is a prominent place in India's Silicon Valley. The area is occupied by bachelor IT professional from all over India. The area has a lot of food joints and I have a friend who wants to start a business. He is set on starting a restaurant and has asked for my help to figure out what kind and where to put it. He doesn't care what type of restaurant, but he wants it to be successful.\n",
    "\n",
    "I have decided to help him by using Foursquare data to cluster the current restaurants around Whitefield and identify restaurant types that are well established in one segment, but not in another. When complete, I hope to be able to offer him a location and type of restaurant suggestion based on current data, which he can then take and start doing more research on his own.\n",
    "\n",
    "<b>Full-Disclosure:</b> I had help from many of the Data Science forums to get to the final point in this projects. Thanks to them all"
   ]
  }
 ],
 "metadata": {
  "kernelspec": {
   "display_name": "Python",
   "language": "python",
   "name": "conda-env-python-py"
  },
  "language_info": {
   "codemirror_mode": {
    "name": "ipython",
    "version": 3
   },
   "file_extension": ".py",
   "mimetype": "text/x-python",
   "name": "python",
   "nbconvert_exporter": "python",
   "pygments_lexer": "ipython3",
   "version": "3.6.10"
  }
 },
 "nbformat": 4,
 "nbformat_minor": 4
}
