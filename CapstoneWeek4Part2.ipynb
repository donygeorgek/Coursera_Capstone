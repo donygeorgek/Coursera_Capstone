{
 "cells": [
  {
   "cell_type": "markdown",
   "metadata": {},
   "source": [
    "# IBM Data Science Professional Certificate\n",
    "## Applied Data Science Capstone - The Battle of Neighborhoods - Week 4 Part 2"
   ]
  },
  {
   "cell_type": "markdown",
   "metadata": {},
   "source": [
    "##### Week 4 - Part 2: The Data"
   ]
  },
  {
   "cell_type": "markdown",
   "metadata": {},
   "source": [
    "<b>Assignment:</b> Describe the data that you will be using to solve the problem or execute your idea. Remember that you will need to use the Foursquare location data to solve the problem or execute your idea. You can absolutely use other datasets in combination with the Foursquare location data. So make sure that you provide adequate explanation and discussion, with examples, of the data that you will be using, even if it is only Foursquare location data.\n",
    "\n",
    "This submission will eventually become your Data section in your final report. So I recommend that you push the report (having your Data section) to your Github repository and submit a link to it."
   ]
  },
  {
   "cell_type": "markdown",
   "metadata": {},
   "source": [
    "<b>My Idea:</b> I want to take FourSquare data of Whitefield restaurants and try to identify style of restaurant based on venue category. From there, I will do <i>k</i>-means clustering and find the optimal <i>k</i> to get an understanding of how the area is actually segmented by restaurants, then within one cluster, I want to find a style of restaurant that is highly represented in other clusters, but not in the selected.\n",
    "\n",
    "<i>More Details Steps Involded:</i>\n",
    "\n",
    "<b>Step 1:</b> Get an understanding of how the area around Whitefield is currently segmented for all restaurants by performing k-means clustering, and searching for the optimal k.\n",
    "    To do this, I will use Foursquare Venue Categories within the top-level 'food' group for the data to perform k-means clustering.\n",
    "\n",
    "<b>Step 2:</b> Find optimal-<i>k</i> clusters and assign each venue to a cluster.\n",
    "\n",
    "<b>Step 3:</b> Plot a new map with colored clusters to visually understand the data. \n",
    "\n",
    "<b>Step 4:</b> Rank the categories within each cluster.\n",
    "\n",
    "<b>Step 5:</b> I will then choose a cluster. I'll assume my friend has a preference of a given cluster and would want to start his business there.\n",
    "\n",
    "<b>Step 6:</b> I want to compare the top types of restaurants within each cluster to the chosen cluster and determine dissimilarities.\n",
    "    This will provide insight because if a certain restaurant is well represented on the east side of town (for example) and under-represented on the west side of town, there is an opportunity to establish a new restaurant on the west side.\n",
    "    \n",
    "<b>Step 7:</b> Choose a restaurant type. Ideal type would be highly represented in other clusters, but lowly represented in the chosen cluster.\n",
    "\n",
    "<b>Step 8:</b> If the clusters are still rather large, do another round of clustering on the chosen cluster to try and identify a more specific area to locate a restaurant. I would want to recommend a location for the restaurant near other, but dissimilar restaurants.\n",
    "\n",
    "<b>Step 9:</b> Choose a location. At this point we should be able to say I think you should start X restaurant around Y location."
   ]
  },
  {
   "cell_type": "markdown",
   "metadata": {},
   "source": [
    "<b>Full-Disclosure:</b> I had help from many of the Data Science forums to get to the final point in this projects. Thanks to them all"
   ]
  }
 ],
 "metadata": {
  "kernelspec": {
   "display_name": "Python",
   "language": "python",
   "name": "conda-env-python-py"
  },
  "language_info": {
   "codemirror_mode": {
    "name": "ipython",
    "version": 3
   },
   "file_extension": ".py",
   "mimetype": "text/x-python",
   "name": "python",
   "nbconvert_exporter": "python",
   "pygments_lexer": "ipython3",
   "version": "3.6.10"
  }
 },
 "nbformat": 4,
 "nbformat_minor": 4
}
